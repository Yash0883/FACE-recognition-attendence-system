{
 "cells": [
  {
   "cell_type": "code",
   "execution_count": null,
   "id": "c8e2db3e-e179-4e3f-ac87-485b0fcd3abb",
   "metadata": {},
   "outputs": [],
   "source": [
    "import face_recognition as fg\n",
    "import cv2\n",
    "import numpy as np\n",
    "import csv\n",
    "from datetime import datetime"
   ]
  },
  {
   "cell_type": "code",
   "execution_count": null,
   "id": "e6dda0d4-8ad6-4566-82f0-523485081279",
   "metadata": {},
   "outputs": [],
   "source": [
    "vid_cap = cv2.VideoCapture(0)\n",
    "\n",
    "tata_image = fg.load_image_file(\"C:/Users/User/Downloads/tata.jpg\")\n",
    "tata_encoding = fg.face_encodings(tata_image)[0]\n",
    "\n",
    "jobs_image = fg.load_image_file(\"C:/Users/User/Downloads/jobs.jpg\")\n",
    "jobs_encoding = fg.face_encodings(jobs_image)[0]\n",
    "\n",
    "monalisa_image = fg.load_image_file(\"C:/Users/User/Downloads/monalisa.jpg\")\n",
    "monalisa_encoding = fg.face_encodings(monalisa_image)[0]\n",
    "\n",
    "tesla_image = fg.load_image_file(\"C:/Users/User/Downloads/tesla.jpg\")\n",
    "tesla_encoding = fg.face_encodings(tesla_image)[0]"
   ]
  },
  {
   "cell_type": "code",
   "execution_count": null,
   "id": "bca7e7a7-9b69-4207-a5ab-0c5e9814f80a",
   "metadata": {},
   "outputs": [],
   "source": [
    "known_face_encodings = [\n",
    "    tata_encoding,\n",
    "    jobs_encoding,\n",
    "    monalisa_encoding,\n",
    "    tesla_encoding\n",
    "]\n",
    "\n",
    "known_faces_names = [\n",
    "    \"tata\",\n",
    "    \"jobs\",\n",
    "    \"monalisa\",\n",
    "    \"tesla\"\n",
    "]\n",
    "\n",
    "students = known_faces_names.copy()\n",
    "\n",
    "face_locations = []\n",
    "face_encodings = []\n",
    "face_names = []\n",
    "s = True"
   ]
  },
  {
   "cell_type": "code",
   "execution_count": null,
   "id": "4482ce2f-83c0-4fda-b157-75390b651266",
   "metadata": {},
   "outputs": [],
   "source": [
    "now = datetime.now()\n",
    "current_date = now.strftime(\"%Y-%m-%d\")\n",
    "\n",
    "# Open CSV file for writing attendance\n",
    "f = open(current_date + '.csv', 'w+', newline='')\n",
    "inwriter = csv.writer(f)"
   ]
  },
  {
   "cell_type": "code",
   "execution_count": null,
   "id": "c0c5ff20-988b-44b1-8397-a9c9538f7e3a",
   "metadata": {},
   "outputs": [],
   "source": [
    "\n",
    "while True:\n",
    "    ret, frame = vid_cap.read()\n",
    "    if not ret:\n",
    "        break\n",
    "    small_frame = cv2.resize(frame, (0, 0), fx=0.25, fy=0.25)\n",
    "    rgb_small_frame = small_frame[:, :, ::-1]\n",
    "\n",
    "    if s:\n",
    "       \n",
    "        face_locations = fg.face_locations(rgb_small_frame)\n",
    "        face_encodings = fg.face_encodings(rgb_small_frame, face_locations)\n",
    "        face_names = []\n",
    "\n",
    "        for face_encoding in face_encodings:\n",
    "           \n",
    "            matches = fg.compare_faces(known_face_encodings, face_encoding)\n",
    "            name = \"\"\n",
    "            face_distances = fg.face_distance(known_face_encodings, face_encoding)\n",
    "            best_match_index = np.argmin(face_distances)\n",
    "\n",
    "            if matches[best_match_index]:\n",
    "                name = known_faces_names[best_match_index]\n",
    "\n",
    "            face_names.append(name)\n",
    "\n",
    "            if name in known_faces_names:\n",
    "                if name in students:\n",
    "                    students.remove(name)\n",
    "                    print(students)\n",
    "                    current_time = datetime.now().strftime(\"%H-%M-%S\")\n",
    "                    inwriter.writerow([name, current_time])\n",
    "\n",
    "    \n",
    "    cv2.imshow(\"attendance system by yash\", frame)\n",
    "\n",
    "    \n",
    "    if cv2.waitKey(1) & 0xFF == ord('q'):\n",
    "        break"
   ]
  },
  {
   "cell_type": "code",
   "execution_count": null,
   "id": "2a2a79a8-0326-41bb-bb2c-03096b464302",
   "metadata": {},
   "outputs": [],
   "source": [
    "vid_cap.release()\n",
    "cv2.destroyAllWindows()\n",
    "f.close()"
   ]
  }
 ],
 "metadata": {
  "kernelspec": {
   "display_name": "Python 3 (ipykernel)",
   "language": "python",
   "name": "python3"
  },
  "language_info": {
   "codemirror_mode": {
    "name": "ipython",
    "version": 3
   },
   "file_extension": ".py",
   "mimetype": "text/x-python",
   "name": "python",
   "nbconvert_exporter": "python",
   "pygments_lexer": "ipython3",
   "version": "3.11.8"
  }
 },
 "nbformat": 4,
 "nbformat_minor": 5
}
